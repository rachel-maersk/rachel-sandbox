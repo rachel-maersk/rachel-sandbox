{
 "cells": [
  {
   "cell_type": "markdown",
   "id": "2905492f-4856-4d13-a903-885b92aa2041",
   "metadata": {},
   "source": [
    "## Data Science Tools and Ecosystem"
   ]
  },
  {
   "cell_type": "markdown",
   "id": "a0913af5-c9fb-49a6-a98a-72950bcb1ef5",
   "metadata": {},
   "source": [
    "In this notebook, Data Science Tools and Ecosystem are summarized."
   ]
  },
  {
   "cell_type": "markdown",
   "id": "24ff64b8-d7cd-43c4-b804-df9c3172ec96",
   "metadata": {},
   "source": [
    "Some of the popular languages that Data Scientists use are:\n",
    "1. python\n",
    "2. SQL\n",
    "3. R\n",
    "4. Scala\n",
    "5. Julia"
   ]
  },
  {
   "cell_type": "markdown",
   "id": "dfdac1bd-8c35-4c7c-a377-d3db79d64cca",
   "metadata": {},
   "source": [
    "Some of the commonly used libraries used by Data Scientists include:\n",
    "1. NumPy\n",
    "2. SciPy\n",
    "3. Matplotlib\n",
    "4. Pandas\n",
    "5. PyTorch\n",
    "6. TensorFlow"
   ]
  },
  {
   "cell_type": "markdown",
   "id": "085e6afb-1296-4075-8bcf-039a5f1851de",
   "metadata": {},
   "source": [
    "| Data Science Tools |\n",
    "| ------------------ |\n",
    "| Jupyter            |\n",
    "| Visual Studio      |\n",
    "| Spyder             |"
   ]
  },
  {
   "cell_type": "markdown",
   "id": "a42ebd6d-49de-447e-97a4-8f3175810fdd",
   "metadata": {},
   "source": [
    "### Below are a few examples of evaluating arithmetic expressions in Python"
   ]
  },
  {
   "cell_type": "code",
   "execution_count": 2,
   "id": "8c46b0df-f4a8-4e22-adf3-20942adeed9a",
   "metadata": {},
   "outputs": [
    {
     "data": {
      "text/plain": [
       "17"
      ]
     },
     "execution_count": 2,
     "metadata": {},
     "output_type": "execute_result"
    }
   ],
   "source": [
    "(3*4)+5"
   ]
  },
  {
   "cell_type": "code",
   "execution_count": 3,
   "id": "f814d55c-750e-49a4-befd-d106cbdcb3f8",
   "metadata": {},
   "outputs": [
    {
     "data": {
      "text/plain": [
       "3.3333333333333335"
      ]
     },
     "execution_count": 3,
     "metadata": {},
     "output_type": "execute_result"
    }
   ],
   "source": [
    "#This will convert 200 minutes to hours by diving by 60\n",
    "200 / 60"
   ]
  },
  {
   "cell_type": "markdown",
   "id": "321fc523-701c-4760-a6c3-5769e073f593",
   "metadata": {},
   "source": [
    "<b>Objectives</b>\n",
    "* List popular libraries\n",
    "* List data science tools\n",
    "* Examples of arithmetic arithmetic expressions "
   ]
  },
  {
   "cell_type": "markdown",
   "id": "88baeca7-7abc-4117-9407-9e33bac63666",
   "metadata": {},
   "source": [
    "## Author\n",
    "Rachel Frendrup "
   ]
  },
  {
   "cell_type": "code",
   "execution_count": null,
   "id": "1a2baff4-5b08-40fe-a864-84121bd1660c",
   "metadata": {},
   "outputs": [],
   "source": []
  }
 ],
 "metadata": {
  "kernelspec": {
   "display_name": "Python 3 (ipykernel)",
   "language": "python",
   "name": "python3"
  },
  "language_info": {
   "codemirror_mode": {
    "name": "ipython",
    "version": 3
   },
   "file_extension": ".py",
   "mimetype": "text/x-python",
   "name": "python",
   "nbconvert_exporter": "python",
   "pygments_lexer": "ipython3",
   "version": "3.11.9"
  }
 },
 "nbformat": 4,
 "nbformat_minor": 5
}
